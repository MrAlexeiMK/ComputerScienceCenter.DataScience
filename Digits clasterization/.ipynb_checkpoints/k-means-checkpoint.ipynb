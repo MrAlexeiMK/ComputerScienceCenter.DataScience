{
 "cells": [
  {
   "cell_type": "code",
   "execution_count": 4,
   "metadata": {},
   "outputs": [],
   "source": [
    "import numpy as np\n",
    "import pandas as pd\n",
    "\n",
    "import matplotlib\n",
    "import matplotlib.pyplot as plt\n",
    "from sklearn.cluster import KMeans\n",
    "matplotlib.style.use('ggplot')\n",
    "%matplotlib inline"
   ]
  },
  {
   "cell_type": "code",
   "execution_count": 5,
   "metadata": {},
   "outputs": [
    {
     "data": {
      "text/html": [
       "<div>\n",
       "<style scoped>\n",
       "    .dataframe tbody tr th:only-of-type {\n",
       "        vertical-align: middle;\n",
       "    }\n",
       "\n",
       "    .dataframe tbody tr th {\n",
       "        vertical-align: top;\n",
       "    }\n",
       "\n",
       "    .dataframe thead th {\n",
       "        text-align: right;\n",
       "    }\n",
       "</style>\n",
       "<table border=\"1\" class=\"dataframe\">\n",
       "  <thead>\n",
       "    <tr style=\"text-align: right;\">\n",
       "      <th></th>\n",
       "      <th>B</th>\n",
       "      <th>C</th>\n",
       "      <th>D</th>\n",
       "      <th>E</th>\n",
       "      <th>F</th>\n",
       "      <th>G</th>\n",
       "      <th>H</th>\n",
       "    </tr>\n",
       "  </thead>\n",
       "  <tbody>\n",
       "    <tr>\n",
       "      <th>0</th>\n",
       "      <td>1</td>\n",
       "      <td>0</td>\n",
       "      <td>1</td>\n",
       "      <td>0</td>\n",
       "      <td>0</td>\n",
       "      <td>1</td>\n",
       "      <td>0</td>\n",
       "    </tr>\n",
       "    <tr>\n",
       "      <th>1</th>\n",
       "      <td>0</td>\n",
       "      <td>0</td>\n",
       "      <td>1</td>\n",
       "      <td>0</td>\n",
       "      <td>0</td>\n",
       "      <td>1</td>\n",
       "      <td>0</td>\n",
       "    </tr>\n",
       "    <tr>\n",
       "      <th>2</th>\n",
       "      <td>0</td>\n",
       "      <td>1</td>\n",
       "      <td>1</td>\n",
       "      <td>1</td>\n",
       "      <td>0</td>\n",
       "      <td>1</td>\n",
       "      <td>0</td>\n",
       "    </tr>\n",
       "    <tr>\n",
       "      <th>3</th>\n",
       "      <td>1</td>\n",
       "      <td>1</td>\n",
       "      <td>1</td>\n",
       "      <td>1</td>\n",
       "      <td>1</td>\n",
       "      <td>0</td>\n",
       "      <td>0</td>\n",
       "    </tr>\n",
       "    <tr>\n",
       "      <th>4</th>\n",
       "      <td>0</td>\n",
       "      <td>1</td>\n",
       "      <td>1</td>\n",
       "      <td>1</td>\n",
       "      <td>1</td>\n",
       "      <td>1</td>\n",
       "      <td>1</td>\n",
       "    </tr>\n",
       "  </tbody>\n",
       "</table>\n",
       "</div>"
      ],
      "text/plain": [
       "   B  C  D  E  F  G  H\n",
       "0  1  0  1  0  0  1  0\n",
       "1  0  0  1  0  0  1  0\n",
       "2  0  1  1  1  0  1  0\n",
       "3  1  1  1  1  1  0  0\n",
       "4  0  1  1  1  1  1  1"
      ]
     },
     "execution_count": 5,
     "metadata": {},
     "output_type": "execute_result"
    }
   ],
   "source": [
    "data = pd.read_csv(\"digit.dat\", sep=\";\")\n",
    "\n",
    "#Удаляем лишние столбцы\n",
    "data.pop(\"A\")\n",
    "data.pop(\"A2\")\n",
    "data.pop(\"B2\")\n",
    "data.pop(\"C2\")\n",
    "data.pop(\"D2\")\n",
    "data.pop(\"E2\")\n",
    "data.pop(\"F2\")\n",
    "data.pop(\"G2\")\n",
    "data.pop(\"H2\")\n",
    "\n",
    "#Заменяем строки на числа\n",
    "data.replace(\"ZERO\", 0, inplace=True)\n",
    "data.replace(\"zero\", 0, inplace=True)\n",
    "data.replace(\"ONE\", 1, inplace=True)\n",
    "data.replace(\"one\", 1, inplace=True)\n",
    "data.replace(\"two\", 2, inplace=True)\n",
    "data.replace(\"three\", 3, inplace=True)\n",
    "data.replace(\"four\", 4, inplace=True)\n",
    "data.replace(\"five\", 5, inplace=True)\n",
    "data.replace(\"six\", 6, inplace=True)\n",
    "data.replace(\"seven\", 7, inplace=True)\n",
    "data.replace(\"eight\", 8, inplace=True)\n",
    "data.replace(\"nine\", 9, inplace=True)\n",
    "\n",
    "data.head()"
   ]
  },
  {
   "cell_type": "code",
   "execution_count": 8,
   "metadata": {},
   "outputs": [
    {
     "data": {
      "text/plain": [
       "KMeans(n_clusters=6, random_state=12)"
      ]
     },
     "execution_count": 8,
     "metadata": {},
     "output_type": "execute_result"
    }
   ],
   "source": [
    "#Выбираем 6 кластеров\n",
    "model = KMeans(n_clusters=6, random_state=12, max_iter=300, n_init=10, verbose=0 )\n",
    "model.fit(data)"
   ]
  },
  {
   "cell_type": "code",
   "execution_count": 11,
   "metadata": {},
   "outputs": [
    {
     "data": {
      "text/plain": [
       "array([2, 2, 5, 3, 3, 2, 1, 1, 4, 0, 2, 3, 2, 2, 2, 1, 2, 2, 5, 1, 5, 0,\n",
       "       1, 1, 4, 3, 4, 0, 2, 1, 3, 1, 4, 4, 1, 3, 0, 0, 5, 3, 0, 0, 3, 1,\n",
       "       0, 3, 0, 5, 2, 0, 1, 0, 0, 2, 2, 5, 0, 3, 1, 3, 5, 3, 0, 0, 3, 0,\n",
       "       1, 4, 4, 5, 3, 0, 1, 0, 3, 2, 0, 0, 3, 0, 5, 2, 1, 0, 0, 5, 0, 1,\n",
       "       1, 2, 0, 2, 2, 1, 0, 1, 1, 0, 2, 5, 2, 5, 2, 0, 0, 1, 5, 1, 3, 2,\n",
       "       5, 5, 1, 1, 1, 4, 1, 3, 1, 3, 5, 5, 2, 5, 1, 1, 0, 5, 0, 4, 2, 1,\n",
       "       2, 3, 0, 4, 5, 2, 1, 0, 2, 5, 1, 0, 2, 4, 0, 0, 1, 5, 1, 0, 5, 2,\n",
       "       2, 4, 1, 0, 4, 3, 1, 5, 4, 0, 5, 4, 0, 4, 5, 1, 1, 1, 2, 3, 5, 0,\n",
       "       2, 5, 1, 0, 0, 0, 0, 3, 1, 3, 3, 2, 4, 3, 2, 1, 2, 1, 4, 1, 1, 5,\n",
       "       3, 2, 2, 1, 0, 2, 0, 3, 3, 3, 1, 4, 3, 5, 0, 0, 0, 2, 3, 2, 2, 2,\n",
       "       1, 2, 0, 1, 4, 0, 0, 2, 0, 0, 2, 2, 0, 2, 0, 1, 0, 0, 1, 5, 4, 1,\n",
       "       3, 0, 2, 1, 5, 0, 0, 1, 0, 3, 5, 1, 5, 5, 2, 3, 1, 5, 0, 4, 1, 3,\n",
       "       2, 3, 1, 1, 0, 1, 5, 3, 3, 0, 1, 1, 3, 3, 1, 4, 1, 2, 4, 5, 1, 3,\n",
       "       3, 3, 5, 1, 1, 1, 5, 0, 3, 1, 0, 1, 0, 3, 1, 0, 0, 3, 3, 5, 2, 5,\n",
       "       1, 2, 0, 0, 4, 0, 0, 1, 3, 5, 0, 5, 2, 4, 4, 0, 3, 0, 1, 3, 3, 2,\n",
       "       2, 5, 3, 1, 3, 2, 5, 0, 5, 1, 5, 3, 5, 0, 0, 2, 2, 1, 2, 4, 4, 2,\n",
       "       1, 4, 1, 3, 2, 1, 3, 0, 4, 3, 3, 2, 0, 1, 0, 4, 3, 3, 4, 0, 4, 0,\n",
       "       3, 5, 1, 0, 1, 3, 3, 0, 5, 1, 1, 5, 2, 2, 5, 2, 3, 4, 0, 0, 3, 5,\n",
       "       1, 3, 1, 1, 0, 3, 2, 1, 3, 1, 0, 3, 0, 0, 0, 5, 5, 2, 0, 1, 5, 0,\n",
       "       3, 1, 1, 0, 4, 0, 2, 2, 2, 3, 4, 5, 1, 4, 0, 4, 4, 1, 2, 0, 0, 2,\n",
       "       0, 0, 0, 0, 4, 4, 5, 3, 3, 0, 0, 0, 3, 2, 0, 0, 3, 1, 5, 3, 0, 1,\n",
       "       3, 5, 5, 5, 3, 0, 4, 0, 2, 4, 1, 1, 1, 1, 3, 0, 3, 0, 1, 4, 0, 2,\n",
       "       4, 3, 1, 1, 1, 0, 1, 3, 3, 2, 1, 1, 0, 4, 2, 2])"
      ]
     },
     "execution_count": 11,
     "metadata": {},
     "output_type": "execute_result"
    }
   ],
   "source": [
    "#Результат кластеризации\n",
    "model.labels_"
   ]
  },
  {
   "cell_type": "code",
   "execution_count": 13,
   "metadata": {},
   "outputs": [
    {
     "data": {
      "text/html": [
       "<div>\n",
       "<style scoped>\n",
       "    .dataframe tbody tr th:only-of-type {\n",
       "        vertical-align: middle;\n",
       "    }\n",
       "\n",
       "    .dataframe tbody tr th {\n",
       "        vertical-align: top;\n",
       "    }\n",
       "\n",
       "    .dataframe thead th {\n",
       "        text-align: right;\n",
       "    }\n",
       "</style>\n",
       "<table border=\"1\" class=\"dataframe\">\n",
       "  <thead>\n",
       "    <tr style=\"text-align: right;\">\n",
       "      <th></th>\n",
       "      <th>B</th>\n",
       "      <th>C</th>\n",
       "      <th>D</th>\n",
       "      <th>E</th>\n",
       "      <th>F</th>\n",
       "      <th>G</th>\n",
       "      <th>H</th>\n",
       "    </tr>\n",
       "    <tr>\n",
       "      <th>cluster</th>\n",
       "      <th></th>\n",
       "      <th></th>\n",
       "      <th></th>\n",
       "      <th></th>\n",
       "      <th></th>\n",
       "      <th></th>\n",
       "      <th></th>\n",
       "    </tr>\n",
       "  </thead>\n",
       "  <tbody>\n",
       "    <tr>\n",
       "      <th>0</th>\n",
       "      <td>0.949580</td>\n",
       "      <td>0.420168</td>\n",
       "      <td>0.924370</td>\n",
       "      <td>0.941176</td>\n",
       "      <td>0.084034</td>\n",
       "      <td>0.957983</td>\n",
       "      <td>0.890756</td>\n",
       "    </tr>\n",
       "    <tr>\n",
       "      <th>1</th>\n",
       "      <td>0.888889</td>\n",
       "      <td>0.953704</td>\n",
       "      <td>0.000000</td>\n",
       "      <td>0.907407</td>\n",
       "      <td>0.537037</td>\n",
       "      <td>0.898148</td>\n",
       "      <td>0.870370</td>\n",
       "    </tr>\n",
       "    <tr>\n",
       "      <th>2</th>\n",
       "      <td>0.468354</td>\n",
       "      <td>0.113924</td>\n",
       "      <td>0.924051</td>\n",
       "      <td>0.000000</td>\n",
       "      <td>0.151899</td>\n",
       "      <td>0.911392</td>\n",
       "      <td>0.075949</td>\n",
       "    </tr>\n",
       "    <tr>\n",
       "      <th>3</th>\n",
       "      <td>0.928571</td>\n",
       "      <td>0.964286</td>\n",
       "      <td>1.000000</td>\n",
       "      <td>0.559524</td>\n",
       "      <td>1.000000</td>\n",
       "      <td>0.892857</td>\n",
       "      <td>0.916667</td>\n",
       "    </tr>\n",
       "    <tr>\n",
       "      <th>4</th>\n",
       "      <td>0.851064</td>\n",
       "      <td>0.000000</td>\n",
       "      <td>0.829787</td>\n",
       "      <td>0.936170</td>\n",
       "      <td>0.829787</td>\n",
       "      <td>0.000000</td>\n",
       "      <td>0.893617</td>\n",
       "    </tr>\n",
       "    <tr>\n",
       "      <th>5</th>\n",
       "      <td>0.174603</td>\n",
       "      <td>0.888889</td>\n",
       "      <td>0.904762</td>\n",
       "      <td>0.984127</td>\n",
       "      <td>0.111111</td>\n",
       "      <td>0.920635</td>\n",
       "      <td>0.142857</td>\n",
       "    </tr>\n",
       "  </tbody>\n",
       "</table>\n",
       "</div>"
      ],
      "text/plain": [
       "                B         C         D         E         F         G         H\n",
       "cluster                                                                      \n",
       "0        0.949580  0.420168  0.924370  0.941176  0.084034  0.957983  0.890756\n",
       "1        0.888889  0.953704  0.000000  0.907407  0.537037  0.898148  0.870370\n",
       "2        0.468354  0.113924  0.924051  0.000000  0.151899  0.911392  0.075949\n",
       "3        0.928571  0.964286  1.000000  0.559524  1.000000  0.892857  0.916667\n",
       "4        0.851064  0.000000  0.829787  0.936170  0.829787  0.000000  0.893617\n",
       "5        0.174603  0.888889  0.904762  0.984127  0.111111  0.920635  0.142857"
      ]
     },
     "execution_count": 13,
     "metadata": {},
     "output_type": "execute_result"
    }
   ],
   "source": [
    "data['cluster'] = model.labels_\n",
    "data.groupby('cluster').mean()\n",
    "\n",
    "#Интерпритируем кластеры\n",
    "#Кластер№0 - цифры 3, 9\n",
    "#Кластер№1 - цифры 5, 6\n",
    "#Кластер№2 - цифры 1, 7\n",
    "#Кластер№3 - цифры 0, 8\n",
    "#Кластер№4 - цифра 2\n",
    "#Кластер№5 - цифра 4"
   ]
  },
  {
   "cell_type": "code",
   "execution_count": 16,
   "metadata": {},
   "outputs": [
    {
     "data": {
      "image/png": "[encoded data removed]",
      "text/plain": [
       "<Figure size 432x288 with 1 Axes>"
      ]
     },
     "metadata": {
      "needs_background": "light"
     },
     "output_type": "display_data"
    }
   ],
   "source": [
    "#Строим график каменистой осыпи для обоснования выбора 6-ти кластеров\n",
    "K = range(1, 11) #вариации числа кластеров\n",
    "models = [KMeans(n_clusters=k, random_state=42).fit(data) for k in K]\n",
    "dist = [model.inertia_ for model in models]\n",
    "\n",
    "plt.plot(K, dist, marker='o')\n",
    "plt.xlabel('Число кластеров')\n",
    "plt.ylabel('Сумма расстояний')\n",
    "plt.show()\n",
    "\n",
    "#Можно увидеть, что график перестаёт сильно уменьшаться где-то при 6-ти кластерах, поэтому выбор 6-ти кластеров обоснован."
   ]
  },
  {
   "cell_type": "code",
   "execution_count": null,
   "metadata": {},
   "outputs": [],
   "source": []
  }
 ],
 "metadata": {
  "kernelspec": {
   "display_name": "Python 3",
   "language": "python",
   "name": "python3"
  },
  "language_info": {
   "codemirror_mode": {
    "name": "ipython",
    "version": 3
   },
   "file_extension": ".py",
   "mimetype": "text/x-python",
   "name": "python",
   "nbconvert_exporter": "python",
   "pygments_lexer": "ipython3",
   "version": "3.8.2"
  }
 },
 "nbformat": 4,
 "nbformat_minor": 4
}
