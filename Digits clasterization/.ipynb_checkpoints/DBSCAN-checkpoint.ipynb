{
 "cells": [
  {
   "cell_type": "code",
   "execution_count": 2,
   "metadata": {},
   "outputs": [],
   "source": [
    "import numpy as np\n",
    "import pandas as pd\n",
    "\n",
    "import matplotlib\n",
    "import matplotlib.pyplot as plt\n",
    "from sklearn.cluster import KMeans\n",
    "from sklearn.preprocessing import StandardScaler\n",
    "from scipy.cluster.hierarchy import dendrogram, linkage, fcluster\n",
    "from sklearn.cluster import DBSCAN\n",
    "matplotlib.style.use('ggplot')\n",
    "%matplotlib inline"
   ]
  },
  {
   "cell_type": "code",
   "execution_count": 3,
   "metadata": {},
   "outputs": [
    {
     "data": {
      "text/html": [
       "<div>\n",
       "<style scoped>\n",
       "    .dataframe tbody tr th:only-of-type {\n",
       "        vertical-align: middle;\n",
       "    }\n",
       "\n",
       "    .dataframe tbody tr th {\n",
       "        vertical-align: top;\n",
       "    }\n",
       "\n",
       "    .dataframe thead th {\n",
       "        text-align: right;\n",
       "    }\n",
       "</style>\n",
       "<table border=\"1\" class=\"dataframe\">\n",
       "  <thead>\n",
       "    <tr style=\"text-align: right;\">\n",
       "      <th></th>\n",
       "      <th>B</th>\n",
       "      <th>C</th>\n",
       "      <th>D</th>\n",
       "      <th>E</th>\n",
       "      <th>F</th>\n",
       "      <th>G</th>\n",
       "      <th>H</th>\n",
       "    </tr>\n",
       "  </thead>\n",
       "  <tbody>\n",
       "    <tr>\n",
       "      <th>0</th>\n",
       "      <td>1</td>\n",
       "      <td>0</td>\n",
       "      <td>1</td>\n",
       "      <td>0</td>\n",
       "      <td>0</td>\n",
       "      <td>1</td>\n",
       "      <td>0</td>\n",
       "    </tr>\n",
       "    <tr>\n",
       "      <th>1</th>\n",
       "      <td>0</td>\n",
       "      <td>0</td>\n",
       "      <td>1</td>\n",
       "      <td>0</td>\n",
       "      <td>0</td>\n",
       "      <td>1</td>\n",
       "      <td>0</td>\n",
       "    </tr>\n",
       "    <tr>\n",
       "      <th>2</th>\n",
       "      <td>0</td>\n",
       "      <td>1</td>\n",
       "      <td>1</td>\n",
       "      <td>1</td>\n",
       "      <td>0</td>\n",
       "      <td>1</td>\n",
       "      <td>0</td>\n",
       "    </tr>\n",
       "    <tr>\n",
       "      <th>3</th>\n",
       "      <td>1</td>\n",
       "      <td>1</td>\n",
       "      <td>1</td>\n",
       "      <td>1</td>\n",
       "      <td>1</td>\n",
       "      <td>0</td>\n",
       "      <td>0</td>\n",
       "    </tr>\n",
       "    <tr>\n",
       "      <th>4</th>\n",
       "      <td>0</td>\n",
       "      <td>1</td>\n",
       "      <td>1</td>\n",
       "      <td>1</td>\n",
       "      <td>1</td>\n",
       "      <td>1</td>\n",
       "      <td>1</td>\n",
       "    </tr>\n",
       "  </tbody>\n",
       "</table>\n",
       "</div>"
      ],
      "text/plain": [
       "   B  C  D  E  F  G  H\n",
       "0  1  0  1  0  0  1  0\n",
       "1  0  0  1  0  0  1  0\n",
       "2  0  1  1  1  0  1  0\n",
       "3  1  1  1  1  1  0  0\n",
       "4  0  1  1  1  1  1  1"
      ]
     },
     "execution_count": 3,
     "metadata": {},
     "output_type": "execute_result"
    }
   ],
   "source": [
    "data = pd.read_csv(\"digit.dat\", sep=\";\")\n",
    "\n",
    "#Удаляем лишние столбцы\n",
    "data.pop(\"A\")\n",
    "data.pop(\"A2\")\n",
    "data.pop(\"B2\")\n",
    "data.pop(\"C2\")\n",
    "data.pop(\"D2\")\n",
    "data.pop(\"E2\")\n",
    "data.pop(\"F2\")\n",
    "data.pop(\"G2\")\n",
    "data.pop(\"H2\")\n",
    "\n",
    "#Заменяем строки на числа\n",
    "data.replace(\"ZERO\", 0, inplace=True)\n",
    "data.replace(\"zero\", 0, inplace=True)\n",
    "data.replace(\"ONE\", 1, inplace=True)\n",
    "data.replace(\"one\", 1, inplace=True)\n",
    "data.replace(\"two\", 2, inplace=True)\n",
    "data.replace(\"three\", 3, inplace=True)\n",
    "data.replace(\"four\", 4, inplace=True)\n",
    "data.replace(\"five\", 5, inplace=True)\n",
    "data.replace(\"six\", 6, inplace=True)\n",
    "data.replace(\"seven\", 7, inplace=True)\n",
    "data.replace(\"eight\", 8, inplace=True)\n",
    "data.replace(\"nine\", 9, inplace=True)\n",
    "\n",
    "data.head()"
   ]
  },
  {
   "cell_type": "code",
   "execution_count": 26,
   "metadata": {},
   "outputs": [
    {
     "data": {
      "text/plain": [
       "DBSCAN()"
      ]
     },
     "execution_count": 26,
     "metadata": {},
     "output_type": "execute_result"
    }
   ],
   "source": [
    "dbscan = DBSCAN(eps=0.5, metric='euclidean', min_samples=5)\n",
    "dbscan.fit(data)"
   ]
  },
  {
   "cell_type": "code",
   "execution_count": 27,
   "metadata": {},
   "outputs": [
    {
     "name": "stdout",
     "output_type": "stream",
     "text": [
      "[[ -1 110]\n",
      " [  0  24]\n",
      " [  1  18]\n",
      " [  2  26]\n",
      " [  3  35]\n",
      " [  4   5]\n",
      " [  5  24]\n",
      " [  6  42]\n",
      " [  7   8]\n",
      " [  8  36]\n",
      " [  9  29]\n",
      " [ 10   5]\n",
      " [ 11  11]\n",
      " [ 12   5]\n",
      " [ 13   7]\n",
      " [ 14  25]\n",
      " [ 15   5]\n",
      " [ 16  31]\n",
      " [ 17   6]\n",
      " [ 18  10]\n",
      " [ 19   6]\n",
      " [ 20   8]\n",
      " [ 21   5]\n",
      " [ 22   8]\n",
      " [ 23   5]\n",
      " [ 24   6]]\n"
     ]
    }
   ],
   "source": [
    "unique, counts = np.unique(dbscan.labels_, return_counts=True)\n",
    "print(np.asarray((unique, counts)).T)\n",
    "3#Слишком много кластеров и выбрасов"
   ]
  },
  {
   "cell_type": "code",
   "execution_count": null,
   "metadata": {},
   "outputs": [],
   "source": [
    "#Попробуем поменять значение esp\n",
    "dbscan = DBSCAN(eps=0.3, metric='euclidean', min_samples=5)\n",
    "dbscan.fit(data)\n",
    "\n",
    "unique, counts = np.unique(dbscan.labels_, return_counts=True)\n",
    "print(np.asarray((unique, counts)).T)"
   ]
  }
 ],
 "metadata": {
  "kernelspec": {
   "display_name": "Python 3",
   "language": "python",
   "name": "python3"
  },
  "language_info": {
   "codemirror_mode": {
    "name": "ipython",
    "version": 3
   },
   "file_extension": ".py",
   "mimetype": "text/x-python",
   "name": "python",
   "nbconvert_exporter": "python",
   "pygments_lexer": "ipython3",
   "version": "3.8.2"
  }
 },
 "nbformat": 4,
 "nbformat_minor": 4
}
